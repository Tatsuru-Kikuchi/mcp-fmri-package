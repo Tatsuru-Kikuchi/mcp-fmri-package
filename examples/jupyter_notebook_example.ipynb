{
 "cells": [
  {
   "cell_type": "markdown",
   "metadata": {},
   "source": [
    "# MCP-fMRI: Ethical Gender Similarity Analysis\n",
    "\n",
    "This notebook demonstrates the complete MCP-fMRI workflow for ethical analysis of gender similarities in mathematical cognition using fMRI data.\n",
    "\n",
    "## Key Features:\n",
    "- Similarity-focused analysis framework\n",
    "- Japanese cultural context integration\n",
    "- Comprehensive bias detection\n",
    "- Ethical guidelines throughout\n",
    "- Interactive visualizations"
   ]
  },
  {
   "cell_type": "code",
   "execution_count": null,
   "metadata": {},
   "outputs": [],
   "source": [
    "# Install MCP-fMRI (if not already installed)\n",
    "# !pip install mcp-fmri[neuroimaging,dash]\n",
    "\n",
    "# Import required libraries\n",
    "import numpy as np\n",
    "import pandas as pd\n",
    "import matplotlib.pyplot as plt\n",
    "import seaborn as sns\n",
    "from pathlib import Path\n",
    "\n",
    "# Import MCP-fMRI modules\n",
    "from mcp_fmri import (\n",
    "    fMRIPreprocessor,\n",
    "    GenderSimilarityAnalyzer,\n",
    "    JapaneseCulturalContext,\n",
    "    SimilarityPlotter,\n",
    "    EthicalReportGenerator,\n",
    "    BiasDetector,\n",
    "    ethical_guidelines\n",
    ")\n",
    "\n",
    "print(\"MCP-fMRI modules imported successfully!\")"
   ]
  },
  {
   "cell_type": "markdown",
   "metadata": {},
   "source": [
    "## 1. Ethical Guidelines and Setup\n",
    "\n",
    "First, let's review the ethical guidelines that inform our analysis:"
   ]
  },
  {
   "cell_type": "code",
   "execution_count": null,
   "metadata": {},
   "outputs": [],
   "source": [
    "# Display ethical guidelines\n",
    "guidelines = ethical_guidelines()\n",
    "\n",
    "print(\"📋 ETHICAL GUIDELINES FOR MCP-fMRI RESEARCH\")\n",
    "print(\"=\" * 50)\n",
    "for i, (principle, description) in enumerate(guidelines.items(), 1):\n",
    "    print(f\"{i}. {principle.replace('_', ' ').title()}:\")\n",
    "    print(f\"   {description[:100]}...\")\n",
    "    print()"
   ]
  },
  {
   "cell_type": "markdown",
   "metadata": {},
   "source": [
    "## 2. Cultural Context: Japanese Populations\n",
    "\n",
    "We integrate specific cultural context for Japanese populations:"
   ]
  },
  {
   "cell_type": "code",
   "execution_count": null,
   "metadata": {},
   "outputs": [],
   "source": [
    "# Initialize Japanese cultural context\n",
    "cultural_context = JapaneseCulturalContext(\n",
    "    education_system=\"collectivist\",\n",
    "    stereotype_timing=\"late\",\n",
    "    regional_diversity=True\n",
    ")\n",
    "\n",
    "# Display cultural characteristics\n",
    "print(\"🎌 JAPANESE CULTURAL CONTEXT\")\n",
    "print(\"=\" * 30)\n",
    "for key, value in cultural_context.characteristics.items():\n",
    "    print(f\"{key.replace('_', ' ').title()}: {value}\")\n",
    "\n",
    "# Get cultural adjustments\n",
    "adjustments = cultural_context.get_cultural_adjustments()\n",
    "print(\"\\n📊 EXPECTED CHARACTERISTICS:\")\n",
    "print(f\"Expected effect size: {adjustments['expected_effect_size']}\")\n",
    "print(f\"Expected similarity: {adjustments['similarity_expectation']}\")\n",
    "print(f\"Stereotype onset age: {adjustments['stereotype_age_onset']} years\")"
   ]
  },
  {
   "cell_type": "markdown",
   "metadata": {},
   "source": [
    "## 3. Initialize Similarity Analyzer\n",
    "\n",
    "Create the analyzer with ethical guidelines enabled:"
   ]
  },
  {
   "cell_type": "code",
   "execution_count": null,
   "metadata": {},
   "outputs": [],
   "source": [
    "# Initialize similarity analyzer\n",
    "analyzer = GenderSimilarityAnalyzer(\n",
    "    ethical_guidelines=True,\n",
    "    similarity_threshold=0.8,\n",
    "    cultural_context=\"japanese\",\n",
    "    bias_detection=True\n",
    ")\n",
    "\n",
    "print(\"🧠 ANALYZER CONFIGURATION:\")\n",
    "print(f\"Ethical guidelines: {analyzer.ethical_guidelines}\")\n",
    "print(f\"Similarity threshold: {analyzer.similarity_threshold}\")\n",
    "print(f\"Cultural context: {analyzer.cultural_context}\")\n",
    "print(f\"Bias detection: {analyzer.bias_detection}\")"
   ]
  },
  {
   "cell_type": "markdown",
   "metadata": {},
   "source": [
    "## 4. Load and Validate Data\n",
    "\n",
    "Load preprocessed data and validate sample representativeness:"
   ]
  },
  {
   "cell_type": "code",
   "execution_count": null,
   "metadata": {},
   "outputs": [],
   "source": [
    "# Load preprocessed data (simulated for this example)\n",
    "print(\"📁 Loading preprocessed data...\")\n",
    "data_dict = analyzer.load_preprocessed_data(\"simulated_path\")\n",
    "\n",
    "print(f\"Data loaded successfully!\")\n",
    "print(f\"Participants: {data_dict['n_participants']}\")\n",
    "print(f\"Brain voxels: {data_dict['n_voxels']}\")\n",
    "print(f\"Data shape: {data_dict['brain_data'].shape}\")\n",
    "\n",
    "# Display demographics summary\n",
    "demographics = data_dict['demographics']\n",
    "print(\"\\n👥 SAMPLE DEMOGRAPHICS:\")\n",
    "print(demographics.describe())"
   ]
  },
  {
   "cell_type": "code",
   "execution_count": null,
   "metadata": {},
   "outputs": [],
   "source": [
    "# Validate sample representativeness\n",
    "print(\"✅ SAMPLE VALIDATION:\")\n",
    "validation = cultural_context.validate_sample(demographics)\n",
    "\n",
    "for check, result in validation.items():\n",
    "    icon = \"✅\" if result else \"❌\"\n",
    "    print(f\"{icon} {check.replace('_', ' ').title()}: {result}\")\n",
    "\n",
    "if validation['sample_representative']:\n",
    "    print(\"\\n🎯 Sample appears representative of Japanese university populations!\")\n",
    "else:\n",
    "    print(\"\\n⚠️  Sample may not be fully representative - consider cultural factors\")"
   ]
  },
  {
   "cell_type": "markdown",
   "metadata": {},
   "source": [
    "## 5. Bias Detection\n",
    "\n",
    "Comprehensive bias detection before analysis:"
   ]
  },
  {
   "cell_type": "code",
   "execution_count": null,
   "metadata": {},
   "outputs": [],
   "source": [
    "# Initialize bias detector\n",
    "bias_detector = BiasDetector(sensitivity='high')\n",
    "\n",
    "# Detect sampling bias\n",
    "sampling_bias = bias_detector.detect_sampling_bias(demographics)\n",
    "\n",
    "print(\"🔍 BIAS DETECTION RESULTS:\")\n",
    "print(\"=\" * 30)\n",
    "for check, result in sampling_bias.items():\n",
    "    if check != 'overall_unbiased':\n",
    "        icon = \"✅\" if result else \"⚠️\"\n",
    "        print(f\"{icon} {check.replace('_', ' ').title()}: {result}\")\n",
    "\n",
    "if sampling_bias['overall_unbiased']:\n",
    "    print(\"\\n✅ No significant sampling bias detected!\")\n",
    "else:\n",
    "    print(\"\\n⚠️  Potential sampling bias detected - consider rebalancing sample\")"
   ]
  },
  {
   "cell_type": "markdown",
   "metadata": {},
   "source": [
    "## 6. Gender Similarity Analysis\n",
    "\n",
    "Run the core similarity analysis:"
   ]
  },
  {
   "cell_type": "code",
   "execution_count": null,
   "metadata": {},
   "outputs": [],
   "source": [
    "# Run similarity analysis\n",
    "print(\"🧠 Running gender similarity analysis...\")\n",
    "similarities, bias_results = analyzer.analyze_similarities(data_dict)\n",
    "\n",
    "print(\"Analysis complete!\\n\")\n",
    "\n",
    "# Display key results\n",
    "print(\"📊 KEY FINDINGS:\")\n",
    "print(\"=\" * 15)\n",
    "print(f\"Overall Similarity Index: {similarities['overall_similarity_index']:.3f}\")\n",
    "print(f\"Individual:Group Ratio: {similarities['individual_to_group_ratio']:.2f}:1\")\n",
    "print(f\"Mean Effect Size (Cohen's d): {similarities['mean_cohens_d']:.3f}\")\n",
    "print(f\"Pattern Correlation: {similarities['pattern_correlation']:.3f}\")\n",
    "print(f\"Cosine Similarity: {similarities['cosine_similarity']:.3f}\")\n",
    "\n",
    "print(\"🔍 BIAS DETECTION:\")\n",
    "print(\"=\" * 15)\n",
    "print(f\"Classification Accuracy: {bias_results['classification_accuracy']:.3f}\")\n",
    "print(f\"Bias Risk Level: {bias_results['bias_risk']}\")\n",
    "print(f\"Similarity Supported: {bias_results['similarity_supported']}\")"
   ]
  },
  {
   "cell_type": "markdown",
   "metadata": {},
   "source": [
    "## 7. Cultural Interpretation\n",
    "\n",
    "Apply Japanese cultural context to interpret results:"
   ]
  },
  {
   "cell_type": "code",
   "execution_count": null,
   "metadata": {},
   "outputs": [],
   "source": [
    "# Cultural interpretation\n",
    "cultural_interpretation = cultural_context.interpret_results(\n",
    "    similarities, bias_results\n",
    ")\n",
    "\n",
    "print(\"🎌 CULTURAL INTERPRETATION:\")\n",
    "print(\"=\" * 28)\n",
    "print(f\"Similarity Assessment: {cultural_interpretation['similarity_assessment']}\")\n",
    "print(f\"Effect Size Assessment: {cultural_interpretation['effect_size_assessment']}\")\n",
    "print(f\"Individual Variation: {cultural_interpretation['individual_variation_assessment']}\")\n",
    "print(f\"Bias Assessment: {cultural_interpretation['bias_assessment']}\")\n",
    "\n",
    "print(\"📝 CULTURAL CONCLUSION:\")\n",
    "print(\"=\" * 23)\n",
    "print(cultural_interpretation['cultural_conclusion'])"
   ]
  },
  {
   "cell_type": "markdown",
   "metadata": {},
   "source": [
    "## 8. Visualizations\n",
    "\n",
    "Create comprehensive visualizations:"
   ]
  },
  {
   "cell_type": "code",
   "execution_count": null,
   "metadata": {},
   "outputs": [],
   "source": [
    "# Initialize plotter\n",
    "plotter = SimilarityPlotter(style='seaborn', color_palette='viridis')\n",
    "\n",
    "# Create similarity matrix plot\n",
    "fig1 = plotter.plot_similarity_matrix(similarities)\n",
    "plt.show()\n",
    "\n",
    "print(\"📈 Similarity matrix shows high gender similarities across all metrics!\")"
   ]
  },
  {
   "cell_type": "code",
   "execution_count": null,
   "metadata": {},
   "outputs": [],
   "source": [
    "# Individual vs Group variation plot\n",
    "fig2 = plotter.plot_individual_vs_group_variation(similarities)\n",
    "plt.show()\n",
    "\n",
    "ratio = similarities['individual_to_group_ratio']\n",
    "if ratio > 3:\n",
    "    print(f\"📊 Individual differences ({ratio:.1f}x) dominate group differences!\")\n",
    "else:\n",
    "    print(f\"📊 Individual to group ratio: {ratio:.1f}:1\")"
   ]
  },
  {
   "cell_type": "code",
   "execution_count": null,
   "metadata": {},
   "outputs": [],
   "source": [
    "# Effect size distribution\n",
    "fig3 = plotter.plot_effect_size_distribution(similarities)\n",
    "plt.show()\n",
    "\n",
    "effect_size = similarities['mean_cohens_d']\n",
    "if effect_size < 0.2:\n",
    "    print(f\"📏 Small effect size (d={effect_size:.3f}) supports similarity hypothesis!\")\n",
    "elif effect_size < 0.5:\n",
    "    print(f\"📏 Medium effect size (d={effect_size:.3f}) - consider cultural factors\")\n",
    "else:\n",
    "    print(f\"📏 Large effect size (d={effect_size:.3f}) - examine methodology\")"
   ]
  },
  {
   "cell_type": "code",
   "execution_count": null,
   "metadata": {},
   "outputs": [],
   "source": [
    "# Interactive dashboard\n",
    "print(\"Creating interactive dashboard...\")\n",
    "dashboard = plotter.create_interactive_similarity_dashboard(similarities, bias_results)\n",
    "dashboard.show()\n",
    "\n",
    "print(\"🎨 Interactive dashboard created! This provides a comprehensive view of all metrics.\")"
   ]
  },
  {
   "cell_type": "markdown",
   "metadata": {},
   "source": [
    "## 9. Comprehensive Report\n",
    "\n",
    "Generate a complete ethical analysis report:"
   ]
  },
  {
   "cell_type": "code",
   "execution_count": null,
   "metadata": {},
   "outputs": [],
   "source": [
    "# Generate comprehensive report\n",
    "report_generator = EthicalReportGenerator(cultural_context=\"japanese\")\n",
    "\n",
    "analysis_results = {\n",
    "    'similarities': similarities,\n",
    "    'bias_detection': bias_results,\n",
    "    'cultural_interpretation': cultural_interpretation,\n",
    "    'cultural_context': cultural_context\n",
    "}\n",
    "\n",
    "report = report_generator.generate_similarity_report(analysis_results)\n",
    "\n",
    "print(\"📋 COMPREHENSIVE ANALYSIS REPORT:\")\n",
    "print(\"=\" * 40)\n",
    "print(report['text_report'])"
   ]
  },
  {
   "cell_type": "markdown",
   "metadata": {},
   "source": [
    "## 10. Ethical Conclusions and Guidelines\n",
    "\n",
    "Summary of ethical considerations and key takeaways:"
   ]
  },
  {
   "cell_type": "code",
   "execution_count": null,
   "metadata": {},
   "outputs": [],
   "source": [
    "print(\"⚖️ ETHICAL CONCLUSIONS:\")\n",
    "print(\"=\" * 25)\n",
    "\n",
    "# Determine overall conclusions\n",
    "similarity_index = similarities['overall_similarity_index']\n",
    "individual_ratio = similarities['individual_to_group_ratio']\n",
    "effect_size = similarities['mean_cohens_d']\n",
    "bias_risk = bias_results['bias_risk']\n",
    "\n",
    "conclusions = []\n",
    "\n",
    "if similarity_index > 0.8:\n",
    "    conclusions.append(\"✅ HIGH gender similarity detected in neural patterns\")\n",
    "else:\n",
    "    conclusions.append(\"⚠️ Moderate similarity - examine cultural factors\")\n",
    "\n",
    "if individual_ratio > 3:\n",
    "    conclusions.append(\"✅ Individual differences DOMINATE group differences\")\n",
    "else:\n",
    "    conclusions.append(\"⚠️ Group differences notable - emphasize individual variation\")\n",
    "\n",
    "if effect_size < 0.2:\n",
    "    conclusions.append(\"✅ Small effect size supports similarity hypothesis\")\n",
    "else:\n",
    "    conclusions.append(\"⚠️ Larger effect size - consider methodological factors\")\n",
    "\n",
    "if bias_risk == 'low':\n",
    "    conclusions.append(\"✅ Low bias risk supports reliable findings\")\n",
    "else:\n",
    "    conclusions.append(\"⚠️ Elevated bias risk - examine methodology\")\n",
    "\n",
    "for conclusion in conclusions:\n",
    "    print(conclusion)\n",
    "\n",
    "print(\"\\n📝 KEY TAKEAWAYS:\")\n",
    "print(\"• This analysis emphasizes gender similarities over differences\")\n",
    "print(\"• Individual variation exceeds group-level patterns\")\n",
    "print(\"• Cultural context (Japanese) has been integrated throughout\")\n",
    "print(\"• Results support evidence-based educational approaches\")\n",
    "print(\"• Findings should NEVER be used to justify discrimination\")\n",
    "\n",
    "print(\"\\n🎌 Japanese Context Specifics:\")\n",
    "print(\"• Results align with collectivist educational values\")\n",
    "print(\"• Late stereotype acquisition may contribute to similarities\")\n",
    "print(\"• High mathematical competence observed across groups\")\n",
    "print(\"• Regional diversity considered in interpretation\")"
   ]
  },
  {
   "cell_type": "markdown",
   "metadata": {},
   "source": [
    "## Final Ethical Reminder\n",
    "\n",
    "⚠️ **IMPORTANT**: These findings emphasize gender similarities in mathematical cognition and should never be used to justify discrimination or reinforce stereotypes. All analyses have been conducted with ethical guidelines prioritizing individual potential over group generalizations.\n",
    "\n",
    "The results support evidence-based approaches to education that focus on individual abilities and cultural context rather than group-based assumptions.\n",
    "\n",
    "---\n",
    "\n",
    "**Citation**: If you use MCP-fMRI in your research, please cite appropriately and follow ethical guidelines for neuroimaging research."
   ]
  }
 ],
 "metadata": {
  "kernelspec": {
   "display_name": "Python 3",
   "language": "python",
   "name": "python3"
  },
  "language_info": {
   "codemirror_mode": {
    "name": "ipython",
    "version": 3
   },
   "file_extension": ".py",
   "mimetype": "text/x-python",
   "name": "python",
   "nbconvert_exporter": "python",
   "pygments_lexer": "ipython3",
   "version": "3.8.0"
  }
 },
 "nbformat": 4,
 "nbformat_minor": 4
}